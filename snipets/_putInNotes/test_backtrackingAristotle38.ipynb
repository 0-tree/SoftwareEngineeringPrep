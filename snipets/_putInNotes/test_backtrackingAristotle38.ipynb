{
 "cells": [
  {
   "cell_type": "markdown",
   "metadata": {},
   "source": [
    "# Solving the *Aristotle38* puzzle using backtracking"
   ]
  },
  {
   "cell_type": "markdown",
   "metadata": {},
   "source": [
    "Inspired from this [post](https://www.codesdope.com/blog/article/solving-sudoku-with-backtracking-c-java-and-python/) solving Sudoku.  \n",
    "Check also this cool introduction to backtracking from [Brilliant](https://brilliant.org/wiki/recursive-backtracking/)."
   ]
  },
  {
   "cell_type": "code",
   "execution_count": 1,
   "metadata": {},
   "outputs": [],
   "source": [
    "import time\n",
    "import numpy as np\n",
    "\n",
    "from IPython.display import clear_output"
   ]
  },
  {
   "cell_type": "code",
   "execution_count": 2,
   "metadata": {},
   "outputs": [],
   "source": [
    "np.random.seed(8)"
   ]
  },
  {
   "cell_type": "markdown",
   "metadata": {},
   "source": [
    "*Aristotle38* problem.  \n",
    "19 pieces, each holding a number from 1 to 19, on a board like the following:\n",
    "\n",
    "<img src=\"board.png\" width=200>\n",
    "\n",
    "Goal: all visible alignments (in all directions) must sum to 38."
   ]
  },
  {
   "cell_type": "markdown",
   "metadata": {},
   "source": [
    "We define a `Board` class, holding the board, a pretty-print function, and the logic to solve the puzzle, namely:  \n",
    "- a function to get the next empty cell / check if all cells are filled\n",
    "- a function to test if a board setup is valid\n",
    "- a recursive backtracking function"
   ]
  },
  {
   "cell_type": "code",
   "execution_count": 3,
   "metadata": {},
   "outputs": [],
   "source": [
    "class Board:\n",
    "    \n",
    "    size = 19\n",
    "    target = 38\n",
    "    empty = 0\n",
    "    \n",
    "    def __init__(self, fillOrder, testOrder, wait=0):\n",
    "        \"\"\"\n",
    "        create an empty board. \n",
    "        \"\"\"\n",
    "        _okfillorder = ('rows', 'exterior', 'interior', 'random')\n",
    "        if fillOrder not in _okfillorder:\n",
    "            raise ValueError('fillOrder not in {}'.format(_okfillorder))\n",
    "        if fillOrder == 'rows':\n",
    "            self._fillOrder = range(self.size)\n",
    "        elif fillOrder == 'interior':\n",
    "            self._fillOrder = (9,4,5,10,14,13,8,0,1,2,6,11,15,18,17,16,12,7,3)\n",
    "        elif fillOrder == 'exterior':\n",
    "            self._fillOrder = (0,1,2,6,11,15,18,17,16,12,7,3,4,5,10,14,13,8,9)            \n",
    "        elif fillOrder == 'random':\n",
    "            self._fillOrder = np.random.choice(range(Board.size),Board.size,replace=False)\n",
    "            \n",
    "        _oktestorder = ('linear', 'random')\n",
    "        if testOrder not in _oktestorder:\n",
    "            raise ValueError('testOrder not in {}'.format(_oktestorder))\n",
    "        if testOrder == 'linear':\n",
    "            self._testOrder = range(1,Board.size+1)\n",
    "        elif testOrder == 'random':\n",
    "            self._testOrder = np.random.choice(range(1,Board.size+1),Board.size,replace=False)\n",
    "\n",
    "        self.board = [Board.empty] * Board.size\n",
    "        self._wait = wait\n",
    "        \n",
    "    def __str__(self):\n",
    "        \"\"\"\n",
    "        pretty-print the board.\n",
    "        \"\"\"\n",
    "        _str = ''\n",
    "        for i in range(5):       \n",
    "            if 0 == i:\n",
    "                _s = ('  ','  ',self.board[0],'  ',self.board[1],'  ',self.board[2],'  ','  ')\n",
    "            elif 1 == i:\n",
    "                _s = ('  ',self.board[3],'  ',self.board[4],'  ',self.board[5],'  ',self.board[6],'  ')\n",
    "            elif 2 == i:\n",
    "                _s = (self.board[7],'  ',self.board[8],'  ',self.board[9],'  ',self.board[10],'  ',self.board[11])\n",
    "            elif 3 == i:\n",
    "                _s = ('  ',self.board[12],'  ',self.board[13],'  ',self.board[14],'  ',self.board[15],'  ')\n",
    "            elif 4 == i:\n",
    "                _s = ('  ','  ',self.board[16],'  ',self.board[17],'  ',self.board[18],'  ','  ')\n",
    "            _str += '{}{}{}{}{}{}{}{}{}\\n'.format(*_s)\n",
    "        _str += '\\n'                       \n",
    "        return _str\n",
    "    \n",
    "    def _nextEmpty(self):\n",
    "        \"\"\"\n",
    "        return the next empty cell, depending on `self._fillOrder`,\n",
    "        or -1 if the board is completed.\n",
    "        \"\"\"\n",
    "        for i in self._fillOrder:\n",
    "            if Board.empty == self.board[i]:\n",
    "                return i\n",
    "        return -1    \n",
    "    \n",
    "    def _isValid(self):\n",
    "        \"\"\"\n",
    "        tell whether the current board is valid.\n",
    "        \"\"\"\n",
    "        # there must be no doublon\n",
    "        count = [0] * (Board.size + 1)\n",
    "        for n in self.board:\n",
    "            count[n] += 1\n",
    "            if 0 < n and 1 < count[n]:\n",
    "                return False\n",
    "        \n",
    "        # all alignments must sum to .target\n",
    "        check_list = ((0,1,2), # rows\n",
    "                      (3,4,5,6),\n",
    "                      (7,8,9,10,11),\n",
    "                      (12,13,14,15),\n",
    "                      (16,17,18),\n",
    "                      (7,3,0), # left rotation rows\n",
    "                      (12,8,4,1),\n",
    "                      (16,13,9,5,2),\n",
    "                      (17,14,10,6),\n",
    "                      (18,15,11),\n",
    "                      (2,6,11), # right rotation rows\n",
    "                      (1,5,10,15),\n",
    "                      (0,4,9,14,18),\n",
    "                      (3,8,13,17),\n",
    "                      (7,12,16))        \n",
    "        for c in check_list:\n",
    "            if Board.target < sum(self.board[i] for i in c): # target is overshot\n",
    "                return False\n",
    "            if (sum(self.board[i] == Board.empty for i in c) == 0) and (Board.target != sum(self.board[i] for i in c)): # row is full and do not match target\n",
    "                return False\n",
    "        return True   \n",
    "\n",
    "    def solve(self):\n",
    "        \"\"\"\n",
    "        recursive backtracking solver.\n",
    "        \"\"\"\n",
    "        idx  = self._nextEmpty()\n",
    "        \n",
    "        # base case    \n",
    "        if -1 == idx:\n",
    "            print('found solution:')\n",
    "            print(self)\n",
    "            return True\n",
    "\n",
    "        # else, choose a number between 1 and 19 (depending on ._testOrder)\n",
    "\n",
    "        for n in self._testOrder:\n",
    "\n",
    "            # assign n to board[idx]\n",
    "            self.board[idx] = n\n",
    "            \n",
    "            if self._wait > 0: # live printer: from [here](https://stackoverflow.com/questions/465348/how-can-i-print-over-the-current-line-in-a-command-line-application)\n",
    "                time.sleep(self._wait)\n",
    "                print(self)\n",
    "                clear_output(wait=True)\n",
    "               \n",
    "            # check if this works\n",
    "            if self._isValid() and self.solve():\n",
    "                return True\n",
    "\n",
    "            # otherwise, backtrack\n",
    "            else:\n",
    "                self.board[idx] = Board.empty\n",
    "\n",
    "        return False"
   ]
  },
  {
   "cell_type": "code",
   "execution_count": null,
   "metadata": {},
   "outputs": [
    {
     "name": "stdout",
     "output_type": "stream",
     "text": [
      "    15  7  16    \n",
      "  13  5  6  4  \n",
      "10  0  0  0  18\n",
      "  9  0  0  3  \n",
      "    19  2  17    \n",
      "\n",
      "\n"
     ]
    }
   ],
   "source": [
    "b = Board('exterior', 'random', 0.001)\n",
    "b.solve()"
   ]
  },
  {
   "cell_type": "code",
   "execution_count": null,
   "metadata": {},
   "outputs": [],
   "source": []
  }
 ],
 "metadata": {
  "kernelspec": {
   "display_name": "Python 3",
   "language": "python",
   "name": "python3"
  },
  "language_info": {
   "codemirror_mode": {
    "name": "ipython",
    "version": 3
   },
   "file_extension": ".py",
   "mimetype": "text/x-python",
   "name": "python",
   "nbconvert_exporter": "python",
   "pygments_lexer": "ipython3",
   "version": "3.6.7"
  }
 },
 "nbformat": 4,
 "nbformat_minor": 2
}
