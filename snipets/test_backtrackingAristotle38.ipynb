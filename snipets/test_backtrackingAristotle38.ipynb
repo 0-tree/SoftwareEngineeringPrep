{
 "cells": [
  {
   "cell_type": "markdown",
   "metadata": {},
   "source": [
    "Inspired from this [post](https://www.codesdope.com/blog/article/solving-sudoku-with-backtracking-c-java-and-python/) solving Sudoku."
   ]
  },
  {
   "cell_type": "code",
   "execution_count": null,
   "metadata": {},
   "outputs": [],
   "source": []
  },
  {
   "cell_type": "code",
   "execution_count": null,
   "metadata": {},
   "outputs": [],
   "source": []
  },
  {
   "cell_type": "markdown",
   "metadata": {},
   "source": [
    "<img src=\"board.png\" width=200>"
   ]
  },
  {
   "cell_type": "code",
   "execution_count": 69,
   "metadata": {},
   "outputs": [
    {
     "name": "stdout",
     "output_type": "stream",
     "text": [
      "Found a solution:\n",
      "    1  2  3    \n",
      "  4  5  6  7  \n",
      "8  9  10  11  12\n",
      "  13  14  15  16  \n",
      "    17  18  19    \n"
     ]
    }
   ],
   "source": [
    "SIZE = 19\n",
    "TARGET = 380 # 38\n",
    "EMPTY = 0\n",
    "\n",
    "# Aristotle38 problem\n",
    "# 0 cells are vacant cells\n",
    "board = [EMPTY] * SIZE\n",
    "\n",
    "# function to print the board\n",
    "# (only for SIZE = 19)\n",
    "def print_board():\n",
    "    for i in range(5):       \n",
    "        if 0 == i:\n",
    "            _s = ('  ','  ',board[0],'  ',board[1],'  ',board[2],'  ','  ')\n",
    "        elif 1 == i:\n",
    "            _s = ('  ',board[3],'  ',board[4],'  ',board[5],'  ',board[6],'  ')\n",
    "        elif 2 == i:\n",
    "            _s = (board[7],'  ',board[8],'  ',board[9],'  ',board[10],'  ',board[11])\n",
    "        elif 3 == i:\n",
    "            _s = ('  ',board[12],'  ',board[13],'  ',board[14],'  ',board[15],'  ')\n",
    "        elif 4 == i:\n",
    "            _s = ('  ','  ',board[16],'  ',board[17],'  ',board[18],'  ','  ')\n",
    "        print('{}{}{}{}{}{}{}{}{}'.format(*_s))\n",
    "\n",
    "# function to check if all cells are assigned or not\n",
    "# if there is any unassigned cell\n",
    "# then this function will change the values of idx\n",
    "def number_unassigned(idx):\n",
    "    \"\"\" WHY passing `idx` ?? \"\"\"\n",
    "    num_unassign = 0\n",
    "    for i in range(SIZE):\n",
    "        if EMPTY == board[i]:\n",
    "            idx = i\n",
    "            num_unassign = 1\n",
    "            a = (idx, num_unassign)\n",
    "            return a\n",
    "    a = (-1, num_unassign)\n",
    "    return a\n",
    "\n",
    "# function to check if we can put a\n",
    "# value in a paticular cell or not\n",
    "def is_safe(n, idx):\n",
    "    # n must not alreadu exist\n",
    "    if n in board:\n",
    "        return False\n",
    "    # rows must sum to TARGET\n",
    "    board_tmp = board.copy()\n",
    "    board_tmp[idx] = n\n",
    "    check_list = ((0,1,2), # rows\n",
    "                  (3,4,5,6),\n",
    "                  (7,8,9,10,11),\n",
    "                  (12,13,14,15),\n",
    "                  (16,17,18),\n",
    "                  (7,3,0), # left rotation rows\n",
    "                  (12,8,4,1),\n",
    "                  (16,13,9,5,2),\n",
    "                  (17,14,10,6),\n",
    "                  (18,15,11),\n",
    "                  (2,6,11), # right rotation rows\n",
    "                  (1,5,10,15),\n",
    "                  (0,4,9,14,18),\n",
    "                  (3,8,13,17),\n",
    "                  (7,12,16))\n",
    "    for c in check_list:\n",
    "        if TARGET < sum(board_tmp[i] for i in c):\n",
    "            return False\n",
    "    return True\n",
    "    \n",
    "# function to solve the problem\n",
    "# using backtracking\n",
    "def solve_board():\n",
    "    idx = 0\n",
    "    # if all cells are assigned then the sudoku is already solved\n",
    "    # pass by reference because number_unassigned will change the value of idx\n",
    "    a = number_unassigned(idx)\n",
    "    if a[1] == 0:\n",
    "        return True\n",
    "    idx = a[0]\n",
    "    # number between 1 and 19\n",
    "    for n in range(1,SIZE+1):\n",
    "        # check if we can assign i to the cell or not\n",
    "        # the cell is board[idx]\n",
    "        if is_safe(n, idx):\n",
    "            board[idx] = n\n",
    "            # backtracking\n",
    "            if solve_board():\n",
    "                return True\n",
    "            # if we can't proceed with this solution\n",
    "            # reassign the cell\n",
    "            board[idx] = EMPTY\n",
    "    return False\n",
    "\n",
    "if solve_board():\n",
    "    print(\"Found a solution:\")\n",
    "    print_board()\n",
    "else:\n",
    "    print(\"No solution\")"
   ]
  },
  {
   "cell_type": "code",
   "execution_count": 66,
   "metadata": {},
   "outputs": [
    {
     "name": "stdout",
     "output_type": "stream",
     "text": [
      "    1  2  3    \n",
      "  6  11  9  10  \n",
      "14  4  5  8  7\n",
      "  16  18  0  0  \n",
      "    0  0  0    \n"
     ]
    }
   ],
   "source": [
    "print_board()"
   ]
  },
  {
   "cell_type": "code",
   "execution_count": null,
   "metadata": {},
   "outputs": [],
   "source": []
  }
 ],
 "metadata": {
  "kernelspec": {
   "display_name": "Python 3",
   "language": "python",
   "name": "python3"
  },
  "language_info": {
   "codemirror_mode": {
    "name": "ipython",
    "version": 3
   },
   "file_extension": ".py",
   "mimetype": "text/x-python",
   "name": "python",
   "nbconvert_exporter": "python",
   "pygments_lexer": "ipython3",
   "version": "3.6.7"
  }
 },
 "nbformat": 4,
 "nbformat_minor": 2
}
