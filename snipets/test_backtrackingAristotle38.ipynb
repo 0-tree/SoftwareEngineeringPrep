{
 "cells": [
  {
   "cell_type": "markdown",
   "metadata": {},
   "source": [
    "Inspired from this [post](https://www.codesdope.com/blog/article/solving-sudoku-with-backtracking-c-java-and-python/) solving Sudoku.  \n",
    "Check also this cool introduction to backtracking from [Brilliant](https://brilliant.org/wiki/recursive-backtracking/)."
   ]
  },
  {
   "cell_type": "code",
   "execution_count": 1,
   "metadata": {},
   "outputs": [],
   "source": [
    "import time\n",
    "import numpy as np\n",
    "\n",
    "from IPython.display import clear_output"
   ]
  },
  {
   "cell_type": "code",
   "execution_count": null,
   "metadata": {},
   "outputs": [],
   "source": [
    "np.random.seed(8)"
   ]
  },
  {
   "cell_type": "markdown",
   "metadata": {},
   "source": [
    "We work with the *Aristotle38* problem. 19 pieces with a number from 1 to 19, on a board like the following: all visible alignments (in all directions) must sum to 38.\n",
    "\n",
    "<img src=\"board.png\" width=200>"
   ]
  },
  {
   "cell_type": "code",
   "execution_count": null,
   "metadata": {},
   "outputs": [
    {
     "name": "stdout",
     "output_type": "stream",
     "text": [
      "    12  10  0    \n",
      "  8  3  19  0  \n",
      "15  4  2  0  14\n",
      "  0  16  11  5  \n",
      "    1  9  6    \n",
      "\n",
      "\n"
     ]
    }
   ],
   "source": [
    "SIZE = 19\n",
    "TARGET = 38\n",
    "EMPTY = 0\n",
    "\n",
    "# Aristotle38 problem\n",
    "board = [EMPTY] * SIZE\n",
    "\n",
    "# function to print the board\n",
    "# (only for SIZE = 19)\n",
    "def print_board():\n",
    "    for i in range(5):       \n",
    "        if 0 == i:\n",
    "            _s = ('  ','  ',board[0],'  ',board[1],'  ',board[2],'  ','  ')\n",
    "        elif 1 == i:\n",
    "            _s = ('  ',board[3],'  ',board[4],'  ',board[5],'  ',board[6],'  ')\n",
    "        elif 2 == i:\n",
    "            _s = (board[7],'  ',board[8],'  ',board[9],'  ',board[10],'  ',board[11])\n",
    "        elif 3 == i:\n",
    "            _s = ('  ',board[12],'  ',board[13],'  ',board[14],'  ',board[15],'  ')\n",
    "        elif 4 == i:\n",
    "            _s = ('  ','  ',board[16],'  ',board[17],'  ',board[18],'  ','  ')\n",
    "        print('{}{}{}{}{}{}{}{}{}'.format(*_s))\n",
    "    print('\\n')\n",
    "    \n",
    "# function to check if all cells are assigned or not\n",
    "# if there is any unassigned cell\n",
    "# then this function will change the values of idx\n",
    "def idx_unassigned():\n",
    "#     for i in range(SIZE):\n",
    "#     for i in (0,1,2,6,11,15,18,17,16,12,7,3,4,5,10,14,13,8,9): # hope for speedup by completing exterior first\n",
    "#     for i in (9,4,5,10,14,13,8,0,1,2,6,11,15,18,17,16,12,7,3): # hope for speedup by completing interior first\n",
    "    for i in np.random.choice(range(SIZE),SIZE,replace=False): # hope for speedup via randomization\n",
    "        \n",
    "        if EMPTY == board[i]:\n",
    "            return i\n",
    "    return -1\n",
    "\n",
    "# function to check if we can put a\n",
    "# value in a paticular cell or not\n",
    "def is_safe(n, idx):\n",
    "    # n must not alreadu exist\n",
    "    if n in board:\n",
    "        return False\n",
    "    # rows must sum to TARGET\n",
    "    board_tmp = board.copy()\n",
    "    board_tmp[idx] = n\n",
    "    check_list = ((0,1,2), # rows\n",
    "                  (3,4,5,6),\n",
    "                  (7,8,9,10,11),\n",
    "                  (12,13,14,15),\n",
    "                  (16,17,18),\n",
    "                  (7,3,0), # left rotation rows\n",
    "                  (12,8,4,1),\n",
    "                  (16,13,9,5,2),\n",
    "                  (17,14,10,6),\n",
    "                  (18,15,11),\n",
    "                  (2,6,11), # right rotation rows\n",
    "                  (1,5,10,15),\n",
    "                  (0,4,9,14,18),\n",
    "                  (3,8,13,17),\n",
    "                  (7,12,16))\n",
    "    for c in check_list:\n",
    "        if TARGET < sum(board_tmp[i] for i in c):\n",
    "            return False\n",
    "    return True\n",
    "    \n",
    "# function to solve the problem\n",
    "# using backtracking\n",
    "def solve_board():\n",
    "    \n",
    "    idx  = idx_unassigned()\n",
    "    \n",
    "    # base case    \n",
    "    if -1 == idx:\n",
    "        return True\n",
    "\n",
    "    # else, choose a number between 1 and 19...\n",
    "#     for n in range(1,SIZE+1):\n",
    "    for n in np.random.choice(range(1,SIZE+1),SIZE,replace=False): # hope for speedup via randomization\n",
    "\n",
    "        # check if we can assign n to board[idx]\n",
    "        if is_safe(n, idx):\n",
    "            board[idx] = n\n",
    "            \n",
    "            time.sleep(0.0) # from [here](https://stackoverflow.com/questions/465348/how-can-i-print-over-the-current-line-in-a-command-line-application)\n",
    "            print_board()\n",
    "            clear_output(wait=True)\n",
    "            \n",
    "            if solve_board():\n",
    "                return True\n",
    "            \n",
    "            # otherwise, backtrack\n",
    "            board[idx] = EMPTY\n",
    "            \n",
    "    return False\n",
    "\n",
    "\n",
    "tic = time.time()\n",
    "if solve_board():\n",
    "    print('Found a solution:')\n",
    "    print_board()\n",
    "else:\n",
    "    print('No solution')\n",
    "print('done: took {}s'.format(time.time()-tic))"
   ]
  }
 ],
 "metadata": {
  "kernelspec": {
   "display_name": "Python 3",
   "language": "python",
   "name": "python3"
  },
  "language_info": {
   "codemirror_mode": {
    "name": "ipython",
    "version": 3
   },
   "file_extension": ".py",
   "mimetype": "text/x-python",
   "name": "python",
   "nbconvert_exporter": "python",
   "pygments_lexer": "ipython3",
   "version": "3.6.7"
  }
 },
 "nbformat": 4,
 "nbformat_minor": 2
}
